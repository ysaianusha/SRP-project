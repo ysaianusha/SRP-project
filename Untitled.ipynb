{
 "cells": [
  {
   "cell_type": "markdown",
   "metadata": {},
   "source": [
    "Module 1:"
   ]
  },
  {
   "cell_type": "code",
   "execution_count": 1,
   "metadata": {},
   "outputs": [],
   "source": [
    "#import necessary packages\n",
    "from sklearn.ensemble import RandomForestClassifier\n",
    "from sklearn.preprocessing import LabelEncoder # to encode lables as integers\n",
    "from sklearn.metrics import confusion_matrix  # built to derive raw accuracy, sensitivity, and specificity.\n",
    "from skimage import feature  #HOG will come from here\n",
    "from imutils import build_montages #for visualization\n",
    "from imutils import paths  #helps to extract image path in dataset\n",
    "import numpy as np  #help statistics and grab random indices\n",
    "import argparse   #will allow us to parse command line arguments\n",
    "import cv2   #used to read, process, and display images\n",
    "import os"
   ]
  },
  {
   "cell_type": "markdown",
   "metadata": {},
   "source": [
    "Module 2:"
   ]
  },
  {
   "cell_type": "code",
   "execution_count": 2,
   "metadata": {},
   "outputs": [],
   "source": [
    "#function to quantify image\n",
    "#this function is used to extract all the features from images\n",
    "def quantify_image(image):\n",
    "    #HOG is structural descripter that will capture and quantify changes in local gradient in the input image.\n",
    "    features = feature.hog(image, orientation=9, pixels_per_cell =(10,10), cell_per_block=(2,2), transform_sqrt=True, block_norm =\"L1\")\n",
    "    \n",
    "    return features"
   ]
  },
  {
   "cell_type": "code",
   "execution_count": null,
   "metadata": {},
   "outputs": [],
   "source": [
    "#this function loads the data and extract features\n",
    "def load_split(path):\n",
    "    \"\"\"grab the list of images in \n",
    "    the input dictionary(here path is to define the path for the images in dataset)\"\"\"\n",
    "    #then initiaklize the list of data\n",
    "    imagePaths = list(paths.list_images(path))\n",
    "    data=[]\n",
    "    lables=[]\n",
    "    \n",
    "    #loop over the images\n",
    "    for imagePath in imagePaths:\n",
    "        #extract the class lable from the filename\n",
    "        lable = imagePath.split(os.path.sep)[-2]#returns the heard part of the image path\n",
    "    \n",
    "        #load the input image, convert it to grayscale, and resize \n",
    "        #it to 200x200 pixels, ignoring aspect ratio.\n",
    "        image = cv2.imread(imagePath)\n",
    "        image = cv2.cvtColor(image, cv2.COLOR_BGR2SRAY)\n",
    "        image = cv2.resize(image, (200, 200))\n",
    "        \n",
    "        #thershold the image such that the drawing "
   ]
  }
 ],
 "metadata": {
  "kernelspec": {
   "display_name": "Python 3",
   "language": "python",
   "name": "python3"
  },
  "language_info": {
   "codemirror_mode": {
    "name": "ipython",
    "version": 3
   },
   "file_extension": ".py",
   "mimetype": "text/x-python",
   "name": "python",
   "nbconvert_exporter": "python",
   "pygments_lexer": "ipython3",
   "version": "3.8.3"
  }
 },
 "nbformat": 4,
 "nbformat_minor": 4
}
